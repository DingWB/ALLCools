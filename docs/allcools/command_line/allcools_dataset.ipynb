{
 "cells": [
  {
   "cell_type": "markdown",
   "metadata": {},
   "source": [
    "# `allcools generate-dataset`"
   ]
  },
  {
   "cell_type": "code",
   "execution_count": 1,
   "metadata": {
    "ExecuteTime": {
     "end_time": "2022-03-26T03:39:58.102612Z",
     "start_time": "2022-03-26T03:39:58.099615Z"
    },
    "tags": [
     "remove-cell"
    ]
   },
   "outputs": [],
   "source": [
    "import subprocess\n",
    "from IPython.display import display, Markdown\n",
    "\n",
    "\n",
    "def execute_command_and_return_markdown(command):\n",
    "    output = subprocess.run(command,\n",
    "                            shell=True,\n",
    "                            check=True,\n",
    "                            stdout=subprocess.PIPE,\n",
    "                            encoding='utf8').stdout\n",
    "    markdown = f\"\"\"\n",
    "```shell\n",
    "$ {command}\n",
    "{output}\n",
    "```\n",
    "\"\"\"\n",
    "    display(Markdown(markdown))\n",
    "    return"
   ]
  },
  {
   "cell_type": "code",
   "execution_count": 2,
   "metadata": {
    "ExecuteTime": {
     "end_time": "2022-03-26T03:39:58.172899Z",
     "start_time": "2022-03-26T03:39:58.103684Z"
    },
    "tags": [
     "hide-input"
    ]
   },
   "outputs": [
    {
     "data": {
      "text/markdown": [
       "\n",
       "```shell\n",
       "$ allcools generate-dataset -h\n",
       "usage: allcools generate-dataset [-h] --allc_table ALLC_TABLE --output_path\n",
       "                                 OUTPUT_PATH --chrom_size_path CHROM_SIZE_PATH\n",
       "                                 [--obs_dim OBS_DIM] [--cpu CPU]\n",
       "                                 [--chunk_size CHUNK_SIZE] --regions REGIONS\n",
       "                                 REGIONS --quantifiers QUANTIFIERS\n",
       "                                 [QUANTIFIERS ...]\n",
       "\n",
       "optional arguments:\n",
       "  -h, --help            show this help message and exit\n",
       "  --obs_dim OBS_DIM     Name of the observation dimension. (default: cell)\n",
       "  --cpu CPU             Number of processes to use in parallel. (default: 1)\n",
       "  --chunk_size CHUNK_SIZE\n",
       "                        Chunk allc_table with chunk_size when generate dataset\n",
       "                        in parallel (default: 10)\n",
       "\n",
       "required arguments:\n",
       "  --allc_table ALLC_TABLE\n",
       "                        Contain all the ALLC file information in two tab-\n",
       "                        separated columns: 1. file_uid, 2. file_path. No\n",
       "                        header (default: None)\n",
       "  --output_path OUTPUT_PATH\n",
       "                        Output path of the MCDS dataset (default: None)\n",
       "  --chrom_size_path CHROM_SIZE_PATH\n",
       "                        Path to UCSC chrom size file. This can be generated\n",
       "                        from the genome fasta or downloaded via UCSC\n",
       "                        fetchChromSizes tools. All ALLCools functions will\n",
       "                        refer to this file whenever possible to check for\n",
       "                        chromosome names and lengths, so it is crucial to use\n",
       "                        a chrom size file consistent to the reference fasta\n",
       "                        file ever since mapping. ALLCools functions will not\n",
       "                        change or infer chromosome names. (default: None)\n",
       "  --regions REGIONS REGIONS\n",
       "                        Definition of genomic regions in the form of \"--\n",
       "                        regions {region_name} {region_definition}\". This\n",
       "                        parameter can be specified multiple times, to allow\n",
       "                        quantification of multiple region sets in the same\n",
       "                        MCDS dataset. Several cases are allowed: 1) a integer\n",
       "                        number means fix-sized genomic bins, region bed and\n",
       "                        region id will be generated automatically based on the\n",
       "                        chrom_size_path parameter (e.g., \"--regions chrom100k\n",
       "                        100000\"); 2) a path to a three-column bed file, in\n",
       "                        this case, a forth column containing region id in the\n",
       "                        form of {region_name}_{i} will be added automatically\n",
       "                        (e.g., \"--regions gene /path/to/gene_bed_no_id.bed\",\n",
       "                        where the bed file only has chrom, start, end\n",
       "                        columns); 3) a path to a four-column bed file, in this\n",
       "                        case, the forth column will be treated as region id\n",
       "                        and the region ids must be UNIQUE. (e.g., \"--regions\n",
       "                        gene /path/to/gene_bed_with_id.bed\", where the bed\n",
       "                        file has chrom, start, end, id columns). (default:\n",
       "                        None)\n",
       "  --quantifiers QUANTIFIERS [QUANTIFIERS ...]\n",
       "                        Definition of genome region quantifiers in the form of\n",
       "                        \"--quantifiers {region_name} {quant_type}\n",
       "                        {mc_contexts} {optional_parameter}\". The region_name\n",
       "                        determines which region set this quantifier applies\n",
       "                        to, region_name must be defined by \"--regions\"\n",
       "                        parameter. The quant_type specify which quantifiers,\n",
       "                        it must be in [\"count\", \"hypo-score\", \"hyper-score\"].\n",
       "                        The mc_contexts specify a comma separated mC context\n",
       "                        list, it must be the same size as the ALLC table, and\n",
       "                        uses IUPAC base abbreviation. --quantifiers parameter\n",
       "                        can be specified multiple times, to allow different\n",
       "                        quantification for different region sets, or multiple\n",
       "                        quantification for the same region set. Some examples:\n",
       "                        1) To quantify raw counts of a region set in mCG and\n",
       "                        mCH context: \"--quantifiers gene count CGN,CHN\" 2) To\n",
       "                        quantify the mCG hypo-methylation score of chrom 5Kb\n",
       "                        bins: \"--quantifiers chrom5k hypo-score CGN\n",
       "                        cutoff=0.9\", by default, cutoff=0.9, so the last part\n",
       "                        is optional. 3) To ALSO quantify the mCG raw counts of\n",
       "                        chrom 5Kb bins in the same MCDS, just specify another\n",
       "                        quantifiers in the same command: \"--quantifiers\n",
       "                        chrom5k count CGN\", note the count matrix of chrom5k\n",
       "                        will be large. Its not usually needed, but you have\n",
       "                        the option if needed. (default: None)\n",
       "\n",
       "```\n"
      ],
      "text/plain": [
       "<IPython.core.display.Markdown object>"
      ]
     },
     "metadata": {},
     "output_type": "display_data"
    }
   ],
   "source": [
    "execute_command_and_return_markdown('allcools generate-dataset -h')"
   ]
  },
  {
   "cell_type": "code",
   "execution_count": null,
   "metadata": {},
   "outputs": [],
   "source": []
  }
 ],
 "metadata": {
  "celltoolbar": "Tags",
  "hide_input": false,
  "kernelspec": {
   "display_name": "Python 3 (ipykernel)",
   "language": "python",
   "name": "python3"
  },
  "language_info": {
   "codemirror_mode": {
    "name": "ipython",
    "version": 3
   },
   "file_extension": ".py",
   "mimetype": "text/x-python",
   "name": "python",
   "nbconvert_exporter": "python",
   "pygments_lexer": "ipython3",
   "version": "3.8.12"
  },
  "toc": {
   "base_numbering": 1,
   "nav_menu": {},
   "number_sections": true,
   "sideBar": true,
   "skip_h1_title": true,
   "title_cell": "Table of Contents",
   "title_sidebar": "Contents",
   "toc_cell": false,
   "toc_position": {},
   "toc_section_display": true,
   "toc_window_display": true
  }
 },
 "nbformat": 4,
 "nbformat_minor": 4
}